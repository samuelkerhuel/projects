{
 "cells": [
  {
   "cell_type": "markdown",
   "metadata": {},
   "source": [
    "# NLP processing of twitter tweets to detect disaster situations using scikit-learn "
   ]
  },
  {
   "cell_type": "markdown",
   "metadata": {},
   "source": [
    "Goal of this notebook is to use scikit-learn library as extensively trying many models and combinations of thereof to detect crisis situations in tweets. <br>\n",
    "\n",
    "Reusing code found online and then adapt and optimise it for the kaggle twitter dataset <br>\n",
    "For **logistic regression** and **SVM** start-up code is https://towardsdatascience.com/sentiment-analysis-with-python-part-2-4f71e7bde59a <br>\n",
    "For hyperparameter tuning : https://towardsdatascience.com/logistic-regression-model-tuning-with-scikit-learn-part-1-425142e01af5 <br>\n",
    "Add other estimators : https://scikit-learn.org/stable/supervised_learning.html <br>\n",
    "\n",
    "Description and documentation per model links:\n",
    "1. LOGISTIQUE REGRESSION : <br>\n",
    "https://scikit-learn.org/stable/modules/linear_model.html#logistic-regression <br>\n",
    "https://scikit-learn.org/stable/modules/generated/sklearn.linear_model.LogisticRegression.html#sklearn.linear_model.LogisticRegression <br>\n",
    "<br>\n",
    "\n",
    "2. SUPPORT VECTOR MACHINE : <br>\n",
    "https://scikit-learn.org/stable/modules/svm.html#classification <br>\n",
    "https://scikit-learn.org/stable/modules/generated/sklearn.svm.LinearSVC.html#sklearn.svm.LinearSVC <br>\n",
    "<br>\n",
    "\n",
    "3. STOCHASTIC GRADIENT DESCENT : <br>\n",
    "https://scikit-learn.org/stable/modules/linear_model.html#stochastic-gradient-descent-sgd <br>\n",
    "https://scikit-learn.org/stable/modules/generated/sklearn.linear_model.SGDClassifier.html#sklearn.linear_model.SGDClassifier\n",
    " <br>\n",
    "<br>\n",
    "\n",
    "4. PERCEPTRON : <br>\n",
    "https://scikit-learn.org/stable/modules/linear_model.html#perceptron<br>\n",
    "https://scikit-learn.org/stable/modules/generated/sklearn.linear_model.Perceptron.html#sklearn.linear_model.Perceptron <br>\n",
    "<br>\n",
    "\n",
    "5. MULTI LAYER PERCEPTRON<br>\n",
    "https://scikit-learn.org/stable/modules/neural_networks_supervised.html#classification <br>\n",
    "https://scikit-learn.org/stable/modules/generated/sklearn.neural_network.MLPClassifier.html#sklearn.neural_network.MLPClassifier <br>\n",
    "<br>\n",
    "\n",
    "6. PASSIVE AGGRESSIVE CLASSIFIER <br>\n",
    "https://scikit-learn.org/stable/modules/linear_model.html#passive-aggressive-algorithms <br>\n",
    "https://scikit-learn.org/stable/modules/generated/sklearn.linear_model.PassiveAggressiveClassifier.html#sklearn.linear_model.PassiveAggressiveClassifier <br>\n",
    "<br>\n",
    "\n",
    "7. RANDOM FOREST :<br>\n",
    "https://scikit-learn.org/stable/modules/ensemble.html#forests-of-randomized-trees <br>\n",
    "https://scikit-learn.org/stable/modules/generated/sklearn.ensemble.RandomForestClassifier.html#sklearn.ensemble.RandomForestClassifier <br>\n",
    "<br>\n",
    "\n",
    "8. DECISION TREE :<br>\n",
    "https://scikit-learn.org/stable/modules/tree.html#classification <br>\n",
    "https://scikit-learn.org/stable/modules/generated/sklearn.tree.DecisionTreeClassifier.html#sklearn.tree.DecisionTreeClassifier <br>\n",
    "<br>\n",
    "\n",
    "9. ADABOOST :<br>\n",
    "https://scikit-learn.org/stable/modules/ensemble.html#adaboost <br>\n",
    "https://scikit-learn.org/stable/modules/generated/sklearn.ensemble.AdaBoostClassifier.html#sklearn.ensemble.AdaBoostClassifier <br>\n",
    "<br>\n",
    "\n",
    "10. GRADIENT BOOST CLASSIFIER: <br>\n",
    "https://scikit-learn.org/stable/modules/ensemble.html#gradient-tree-boosting <br>\n",
    "https://scikit-learn.org/stable/modules/generated/sklearn.ensemble.GradientBoostingClassifier.html#sklearn.ensemble.GradientBoostingClassifier <br>\n",
    "<br>\n",
    "\n",
    "11. NAIVE BAYES : <br>\n",
    "https://scikit-learn.org/stable/modules/naive_bayes.html <br> <br>\n",
    "https://scikit-learn.org/stable/modules/naive_bayes.html#multinomial-naive-bayes <br>\n",
    "https://scikit-learn.org/stable/modules/naive_bayes.html#complement-naive-bayes <br>\n",
    "https://scikit-learn.org/stable/modules/naive_bayes.html#bernoulli-naive-bayes <br><br>\n",
    "https://scikit-learn.org/stable/modules/generated/sklearn.naive_bayes.MultinomialNB.html#sklearn.naive_bayes.MultinomialNB <br>\n",
    "https://scikit-learn.org/stable/modules/generated/sklearn.naive_bayes.ComplementNB.html#sklearn.naive_bayes.ComplementNB <br>\n",
    "https://scikit-learn.org/stable/modules/generated/sklearn.naive_bayes.BernoulliNB.html#sklearn.naive_bayes.BernoulliNB<br>\n",
    "<br>\n",
    "<br>"
   ]
  },
  {
   "cell_type": "code",
   "execution_count": 1,
   "metadata": {},
   "outputs": [],
   "source": [
    "import numpy as np\n",
    "import pandas as pd\n",
    "import os\n",
    "import re\n",
    "import string\n",
    "import io\n",
    "import requests\n",
    "\n",
    "from sklearn.feature_extraction.text import CountVectorizer\n",
    "from sklearn.feature_extraction.text import TfidfVectorizer\n",
    "from sklearn.linear_model import LogisticRegression, SGDClassifier, Perceptron, PassiveAggressiveClassifier\n",
    "from sklearn.svm import LinearSVC\n",
    "from sklearn.tree import DecisionTreeClassifier\n",
    "from sklearn.metrics import accuracy_score, roc_curve, auc\n",
    "from sklearn.model_selection import train_test_split\n",
    "from sklearn.pipeline import Pipeline\n",
    "from sklearn.naive_bayes import MultinomialNB, ComplementNB, BernoulliNB\n",
    "from sklearn.ensemble import RandomForestClassifier, AdaBoostClassifier, GradientBoostingClassifier, VotingClassifier\n",
    "from sklearn.model_selection import GridSearchCV, train_test_split, cross_val_score\n",
    "from sklearn.feature_extraction.text import TfidfVectorizer\n",
    "from sklearn.metrics import classification_report, confusion_matrix, accuracy_score, make_scorer\n",
    "from sklearn.gaussian_process import GaussianProcessClassifier\n",
    "from sklearn.neural_network import MLPClassifier\n",
    "\n",
    "import nltk\n",
    "from nltk.corpus import stopwords\n",
    "from nltk.stem.porter import PorterStemmer\n",
    "\n",
    "import matplotlib.pyplot as plt\n",
    "%matplotlib inline\n"
   ]
  },
  {
   "cell_type": "code",
   "execution_count": 2,
   "metadata": {},
   "outputs": [],
   "source": [
    "# import stopwords. Only need to do it once\n",
    "#import nltk\n",
    "#nltk.download(\"stopwords\")"
   ]
  },
  {
   "cell_type": "code",
   "execution_count": 3,
   "metadata": {},
   "outputs": [],
   "source": [
    "# import wordnet. Only need to do it once\n",
    "#import nltk\n",
    "#nltk.download('wordnet')"
   ]
  },
  {
   "cell_type": "code",
   "execution_count": 4,
   "metadata": {},
   "outputs": [],
   "source": [
    "PUNCT_TO_REMOVE = string.punctuation\n",
    "STOPWORDS       = set(stopwords.words('english'))\n",
    "stemmer         = PorterStemmer()"
   ]
  },
  {
   "cell_type": "markdown",
   "metadata": {},
   "source": [
    "# LOAD DATA SETS"
   ]
  },
  {
   "cell_type": "code",
   "execution_count": 5,
   "metadata": {},
   "outputs": [],
   "source": [
    "#data set can be either loaded from the web (local_data_set = 0) or locally (local_data_set = 1)\n",
    "local_data_set = 1"
   ]
  },
  {
   "cell_type": "code",
   "execution_count": 6,
   "metadata": {},
   "outputs": [],
   "source": [
    "# import training data (tweets)\n",
    "if local_data_set == 1:\n",
    "    df_train                     = pd.read_csv(r'.\\input\\train.csv')\n",
    "    df_test                      = pd.read_csv(r'.\\input\\test.csv')\n",
    "    perfect_pred_df              = pd.read_csv(r'.\\input\\perfect_submission.csv')\n",
    "else:\n",
    "    data_train_url               = r'https://raw.githubusercontent.com/samuelkerhuel/projects/master/kaggle%20NLP%20twitter/input/train.csv'\n",
    "    data_train_url_s             = requests.get(data_train_url).content\n",
    "    df_train                     = pd.read_csv(io.StringIO(data_train_url_s.decode('utf-8')))\n",
    "\n",
    "    data_test_url                = r'https://raw.githubusercontent.com/samuelkerhuel/projects/master/kaggle%20NLP%20twitter/input/test.csv'\n",
    "    data_test_url_s              = requests.get(data_test_url).content\n",
    "    df_test                      = pd.read_csv(io.StringIO(data_test_url_s.decode('utf-8')))\n",
    "\n",
    "    data_perfect_submission_url  = r'https://raw.githubusercontent.com/samuelkerhuel/projects/master/kaggle%20NLP%20twitter/input/perfect_submission.csv'\n",
    "    data_perf_url_s              = requests.get(data_perfect_submission_url).content\n",
    "    perfect_pred_df              = pd.read_csv(io.StringIO(data_perf_url_s.decode('utf-8')))\n",
    "\n",
    "\n",
    "# import test set target\n",
    "perfect_pred    = perfect_pred_df.target"
   ]
  },
  {
   "cell_type": "markdown",
   "metadata": {},
   "source": [
    "# START TIMER"
   ]
  },
  {
   "cell_type": "markdown",
   "metadata": {},
   "source": [
    "use timer to measure processing time"
   ]
  },
  {
   "cell_type": "code",
   "execution_count": 7,
   "metadata": {},
   "outputs": [],
   "source": [
    "import time\n",
    "\n",
    "def TicTocGenerator():\n",
    "    # Generator that returns time differences\n",
    "    ti = 0           # initial time\n",
    "    tf = time.time() # final time\n",
    "    while True:\n",
    "        ti = tf\n",
    "        tf = time.time()\n",
    "        yield tf-ti # returns the time difference\n",
    "\n",
    "TicToc = TicTocGenerator() # create an instance of the TicTocGen generator\n",
    "\n",
    "# This will be the main function through which we define both tic() and toc()\n",
    "def toc(tempBool=True):\n",
    "    # Prints the time difference yielded by generator instance TicToc\n",
    "    tempTimeInterval = next(TicToc)\n",
    "    if tempBool:\n",
    "        print( \"Elapsed time: %f seconds.\\n\" %tempTimeInterval )\n",
    "\n",
    "def tic():\n",
    "    # Records a time in TicToc, marks the beginning of a time interval\n",
    "    toc(False)"
   ]
  },
  {
   "cell_type": "code",
   "execution_count": 8,
   "metadata": {},
   "outputs": [],
   "source": [
    "# start timer\n",
    "tic()"
   ]
  },
  {
   "cell_type": "markdown",
   "metadata": {},
   "source": [
    "# CLEAN DATA SETS"
   ]
  },
  {
   "cell_type": "markdown",
   "metadata": {},
   "source": [
    "cleansing of train and data set"
   ]
  },
  {
   "cell_type": "code",
   "execution_count": 9,
   "metadata": {},
   "outputs": [],
   "source": [
    "def text_cleaning(text):\n",
    "    '''\n",
    "    input: string to be cleaned\n",
    "    output: cleaned string\n",
    "    '''\n",
    "    text = text.lower() # make everything lower case\n",
    "    text = re.compile(r'https?://\\S+|www\\.\\S+').sub(r'', text) #remove url\n",
    "    text = re.compile(r'@\\S+').sub(r'', text) #remove url\n",
    "    text = re.compile(r'#').sub(r'', text) #remove #\n",
    "#    text = text.translate(str.maketrans('', '', PUNCT_TO_REMOVE)) #remove punctuation\n",
    "#    text = \" \".join([word for word in str(text).split() if word not in STOPWORDS]) #remove stop words\n",
    "#    text = \" \".join([stemmer.stem(word) for word in text.split()])\n",
    "    \n",
    "    return text"
   ]
  },
  {
   "cell_type": "code",
   "execution_count": 10,
   "metadata": {},
   "outputs": [],
   "source": [
    "# do the cleaning on text\n",
    "df_train['text_processed'] = df_train['text'].apply(text_cleaning)\n",
    "df_test['text_processed']  = df_test['text'].apply(text_cleaning)"
   ]
  },
  {
   "cell_type": "code",
   "execution_count": 11,
   "metadata": {},
   "outputs": [
    {
     "data": {
      "text/plain": [
       "0                   just happened a terrible car crash\n",
       "1    heard about earthquake is different cities, st...\n",
       "Name: text_processed, dtype: object"
      ]
     },
     "execution_count": 11,
     "metadata": {},
     "output_type": "execute_result"
    }
   ],
   "source": [
    "df_test.text_processed.head(2)"
   ]
  },
  {
   "cell_type": "markdown",
   "metadata": {},
   "source": [
    "Make train and test set inputs (X) and targets (y) into lists"
   ]
  },
  {
   "cell_type": "code",
   "execution_count": 12,
   "metadata": {},
   "outputs": [],
   "source": [
    "tweets_train_clean = df_train['text_processed'].tolist()\n",
    "tweets_test_clean  = df_test['text_processed'].tolist() \n",
    "\n",
    "target_train       = df_train['target'].tolist()\n",
    "target_test        = perfect_pred_df['target'].tolist()\n"
   ]
  },
  {
   "cell_type": "markdown",
   "metadata": {},
   "source": [
    "# PRE-PROCESSING DATA FUNCTIONS"
   ]
  },
  {
   "cell_type": "markdown",
   "metadata": {},
   "source": [
    "## Stop words removal"
   ]
  },
  {
   "cell_type": "markdown",
   "metadata": {},
   "source": [
    "Stop words are the very common words like ‘if’, ‘but’, ‘we’, ‘he’, ‘she’, and ‘they’. <br>\n",
    "We can usually remove these words without changing the semantics of a text and doing so often (but not always) improves the performance of a model. <br>\n",
    "Removing these stop words becomes a lot more useful when we start using longer word sequences as model features (see n-grams below)"
   ]
  },
  {
   "cell_type": "code",
   "execution_count": 13,
   "metadata": {},
   "outputs": [],
   "source": [
    "from nltk.corpus import stopwords\n",
    "\n",
    "english_stop_words = stopwords.words('english')\n",
    "def remove_stop_words(corpus):\n",
    "    removed_stop_words = []\n",
    "    for review in corpus:\n",
    "        removed_stop_words.append(\n",
    "            ' '.join([word for word in review.split() \n",
    "                      if word not in english_stop_words])\n",
    "        )\n",
    "    return removed_stop_words\n"
   ]
  },
  {
   "cell_type": "markdown",
   "metadata": {},
   "source": [
    "## Stemming"
   ]
  },
  {
   "cell_type": "markdown",
   "metadata": {},
   "source": [
    "Stemming is considered to be the more crude/brute-force approach to normalization (although this doesn’t necessarily mean that it will perform worse). There’s several algorithms, but in general they all use basic rules to chop off the ends of words.\n",
    "\n",
    "NLTK has several stemming algorithm implementations. We’ll use the Porter stemmer here but you can explore all of the options with examples here: NLTK Stemmers"
   ]
  },
  {
   "cell_type": "code",
   "execution_count": 14,
   "metadata": {},
   "outputs": [],
   "source": [
    "def get_stemmed_text(corpus):\n",
    "    from nltk.stem.porter import PorterStemmer\n",
    "    stemmer = PorterStemmer()\n",
    "\n",
    "    return [' '.join([stemmer.stem(word) for word in review.split()]) for review in corpus]"
   ]
  },
  {
   "cell_type": "markdown",
   "metadata": {},
   "source": [
    "## Lemmatization"
   ]
  },
  {
   "cell_type": "markdown",
   "metadata": {},
   "source": [
    "Lemmatization works by identifying the part-of-speech of a given word and then applying more complex rules to transform the word into its true root."
   ]
  },
  {
   "cell_type": "code",
   "execution_count": 15,
   "metadata": {},
   "outputs": [],
   "source": [
    "def get_lemmatized_text(corpus):\n",
    "    \n",
    "    from nltk.stem import WordNetLemmatizer\n",
    "    lemmatizer = WordNetLemmatizer()\n",
    "    return [' '.join([lemmatizer.lemmatize(word) for word in review.split()]) for review in corpus]\n"
   ]
  },
  {
   "cell_type": "markdown",
   "metadata": {},
   "source": [
    "# n-grams"
   ]
  },
  {
   "cell_type": "markdown",
   "metadata": {},
   "source": [
    "Basic processing uses only single word features in the model, which is called 1-grams or unigrams. <br> \n",
    "We can potentially add more predictive power to the model by adding two or three (or more) word sequences (bigrams or trigrams) as well.<br> \n",
    "For instance the tweet \"just happened a terrible car crash\" is transformed into following sets:<br>\n",
    "1-grams: {'just'                     , 'happened'                , 'a'              , 'terrible'     , 'car'      , 'crash'} <br>\n",
    "2-grams: {'just happened'            , 'happened a'              , 'a terrible'     , 'terrible car' , 'car crash'}<br> \n",
    "3-grams: {'just happened a'          , 'happened a terrible'     , 'a terrible car' , 'terrible car crash'}<br> \n",
    "4-grams: {'just happened a terrible' , 'happened a terrible car' , 'a terrible car crash'}<br> \n",
    "\n",
    "\n",
    "For example, if a movie review had the three word sequence “didn’t love movie” we would only consider these words individually with a unigram-only model and probably not capture that this is actually a negative sentiment because the word ‘love’ by itself is going to be highly correlated with a positive review.\n",
    "\n",
    "The scikit-learn library makes this really easy to play around with. Just use the ngram argument in the function vectorize below"
   ]
  },
  {
   "cell_type": "markdown",
   "metadata": {},
   "source": [
    "# Vectorization"
   ]
  },
  {
   "cell_type": "markdown",
   "metadata": {},
   "source": [
    "Tweets are text and for this data to make sense to our machine learning algorithm we’ll need to convert each tweet to a numeric representation, which we call vectorization."
   ]
  },
  {
   "cell_type": "markdown",
   "metadata": {},
   "source": [
    "## Binary Vectorization\n",
    "The simplest form of vectorization is to create one very large matrix with one column for every unique word in your corpus (where the corpus is all tweets in our case). <br> \n",
    "Then we transform each tweet into one row containing 0s and 1s, where 1 means that the word in the corpus corresponding to that column appears in that tweet. <br> \n",
    "That being said, each row of the matrix will be very sparse (mostly zeros). <br> \n",
    "This process is also known as one hot encoding. <br> \n",
    "To use binary encoding, set binary parameter in the vectorize function to True"
   ]
  },
  {
   "cell_type": "markdown",
   "metadata": {},
   "source": [
    "## Word Counts"
   ]
  },
  {
   "cell_type": "markdown",
   "metadata": {},
   "source": [
    "Instead of simply noting whether a word appears in the tweet or not, we can include the number of times a given word appears. This can give our sentiment classifier a lot more predictive power. <br> \n",
    "For example, if a movie reviewer says ‘amazing’ or ‘terrible’ multiple times in a review it is considerably more probable that the review is positive or negative, respectively. <br> \n",
    "To use word count encoding, set binary parameter in the vectorize function to False"
   ]
  },
  {
   "cell_type": "code",
   "execution_count": 16,
   "metadata": {},
   "outputs": [],
   "source": [
    "def vectorize(text_train,text_test, binary_or_count=True, ngram=(1,1)):\n",
    "    vectorizer = CountVectorizer(binary=binary_or_count, ngram_range=ngram)\n",
    "    vectorizer.fit(text_train)\n",
    "    X = vectorizer.transform(text_train)\n",
    "    X_test = vectorizer.transform(text_test)\n",
    "    \n",
    "    return(X,X_test)\n"
   ]
  },
  {
   "cell_type": "markdown",
   "metadata": {},
   "source": [
    "## TF-IDF"
   ]
  },
  {
   "cell_type": "markdown",
   "metadata": {},
   "source": [
    "Another common way to represent each document in a corpus is to use the tf-idf statistic (term frequency-inverse document frequency) for each word, which is a weighting factor that we can use in place of binary or word count representations. <br>\n",
    "\n",
    "There are several ways to do tf-idf transformation but in a nutshell, tf-idf aims to represent the number of times a given word appears in a document (a tweet in our case) relative to the number of documents in the corpus that the word appears in — where words that appear in many documents have a value closer to zero and words that appear in less documents have values closer to 1. <br>\n",
    "It can be intuitively understood as: <br>\n",
    "* A word that would appear many times in a tweet but few times over all tweets would carry a lot meaning. <br>\n",
    "* A word that would appear many times in a tweet and many times over all tweets would carry lot less meaning. <br>\n",
    "\n",
    "\n",
    "TF-IDF is done by function TfidfVectorizer"
   ]
  },
  {
   "cell_type": "markdown",
   "metadata": {},
   "source": [
    "## Pre-processing class"
   ]
  },
  {
   "cell_type": "markdown",
   "metadata": {},
   "source": [
    "This class defines the kind of pre-processing to do <br>\n",
    "it is broken down in 3 fields: <br>\n",
    "1. stop_word. <br>\n",
    "    'keep'    : keep stop words<br>\n",
    "    'remove'  : remove stop words<br>\n",
    "<br>\n",
    "2. stem_lem <br>\n",
    "    'none'    : apply neither stemming not lemming <br>\n",
    "    'stem'    : apply stemming <br>\n",
    "    'lem'     : apply lemming <br>\n",
    "<br>\n",
    "3. ngram <br>\n",
    "    range of n-gram to compute\n",
    "4. vector <br>\n",
    "    'binary'  : apply binary vectorization <br>\n",
    "    'count'   : apply words count vectorization <br>\n",
    "    'tf_idf'  : apply tf-idf vectorization <br>\n"
   ]
  },
  {
   "cell_type": "code",
   "execution_count": 17,
   "metadata": {},
   "outputs": [],
   "source": [
    "class text_pre_preproc:\n",
    "  def __init__(self, stop_word, stem_lem, ngram, vector):\n",
    "    self.stop_word = stop_word\n",
    "    self.stem_lem  = stem_lem\n",
    "    self.ngram     = ngram\n",
    "    self.vector    = vector"
   ]
  },
  {
   "cell_type": "markdown",
   "metadata": {},
   "source": [
    "## Apply pre-processing function"
   ]
  },
  {
   "cell_type": "markdown",
   "metadata": {},
   "source": [
    "This function performs pre-processing according to the fields of the class text_pre_preproc"
   ]
  },
  {
   "cell_type": "code",
   "execution_count": 18,
   "metadata": {},
   "outputs": [],
   "source": [
    "def text_pre_processing(train_text, test_text, prep, verbose=0):\n",
    "    '''\n",
    "    input: train and test texts to be processed and pre_processing attributes\n",
    "    output: vector of pre_processed train and test texts\n",
    "    '''\n",
    "    if verbose:\n",
    "        print('text pre-processing parameters:')\n",
    "        \n",
    "    if   prep.stop_word == 'keep':\n",
    "        if verbose:\n",
    "            print('    keep stop words')\n",
    "        train_stop_word, test_stop_word = (train_text                    , test_text)\n",
    "    elif prep.stop_word =='remove':\n",
    "        if verbose:\n",
    "            print('    remove stop words')\n",
    "        train_stop_word, test_stop_word = (remove_stop_words(train_text) , remove_stop_words(test_text))\n",
    "    else:\n",
    "        raise NameError('stop_word field from class text_pre_preproc not correctly set')\n",
    "        \n",
    "    if   prep.stem_lem == 'stem':\n",
    "        if verbose:\n",
    "            print('    do stemming')\n",
    "        train_stem_lem, test_stem_lem = (get_stemmed_text(train_stop_word)    , get_stemmed_text(test_stop_word))\n",
    "    elif prep.stem_lem == 'lem':\n",
    "        if verbose:\n",
    "            print('    do lemmatization')\n",
    "        train_stem_lem, test_stem_lem = (get_lemmatized_text(train_stop_word) , get_lemmatized_text(test_stop_word))\n",
    "    elif prep.stem_lem == 'none':\n",
    "        if verbose:\n",
    "            print('    no stemming or lemmatization')\n",
    "        # do nothing\n",
    "        train_stem_lem, test_stem_lem = (train_stop_word , test_stop_word)\n",
    "    else:\n",
    "        raise NameError('stem_lem field from class text_pre_preproc not correctly set')\n",
    "            \n",
    "    if   prep.vector == 'binary':\n",
    "        if verbose:\n",
    "            print('    binary vectorization with', prep.ngram[0], 'to', prep.ngram[1], \"n-grams\")\n",
    "        train_vector, test_vector = vectorize(train_stem_lem, test_stem_lem, binary_or_count=True, ngram=prep.ngram)\n",
    "    elif prep.vector == 'count':\n",
    "        if verbose:\n",
    "            print('    word count vectorization with', prep.ngram[0], 'to', prep.ngram[1], \"n-grams\")\n",
    "        train_vector, test_vector = vectorize(train_stem_lem, test_stem_lem, binary_or_count=False, ngram=prep.ngram)\n",
    "    elif prep.vector == 'tf_idf':\n",
    "        if verbose:\n",
    "            print('    tf-idf vectorization with', prep.ngram[0], 'to', prep.ngram[1], \"n-grams\")\n",
    "        tfidf_vectorizer = TfidfVectorizer(ngram_range=prep.ngram)\n",
    "        tfidf_vectorizer.fit(train_stem_lem)        \n",
    "        train_vector, test_vector = (tfidf_vectorizer.transform(train_stem_lem) , tfidf_vectorizer.transform(test_stem_lem))\n",
    "    else:\n",
    "        raise NameError('vector field from class text_pre_preproc not correctly set')\n",
    "    \n",
    "    \n",
    "    return (train_vector, test_vector) "
   ]
  },
  {
   "cell_type": "markdown",
   "metadata": {},
   "source": [
    "## Define pre_processing to do "
   ]
  },
  {
   "cell_type": "code",
   "execution_count": 19,
   "metadata": {},
   "outputs": [],
   "source": [
    "# list of all pre-processing. Pretty much \"everything but the kitchen sink\" approach. \n",
    "# Avoid running this on all models (especially processing hungry ones like random forest!!)\n",
    "# Instead run it once on one or a few reasonable models to downselect the best approach(es)\n",
    "# Then use the best pre-processing for each algorithm\n",
    "prep_list_all = [ \n",
    "                text_pre_preproc('keep','none',(1,1),'binary'),\n",
    "                text_pre_preproc('remove','none',(1,1),'binary'),\n",
    "\n",
    "                text_pre_preproc('keep','stem',(1,1),'binary'),\n",
    "                text_pre_preproc('remove','stem',(1,1),'binary'),\n",
    "    \n",
    "                text_pre_preproc('keep','lem',(1,1),'binary'),\n",
    "                text_pre_preproc('remove','lem',(1,1),'binary'),\n",
    "     \n",
    "                text_pre_preproc('keep','none',(1,2),'binary'),\n",
    "                text_pre_preproc('remove','none',(1,2),'binary'),\n",
    "\n",
    "                text_pre_preproc('keep','stem',(1,2),'binary'),\n",
    "                text_pre_preproc('remove','stem',(1,2),'binary'),\n",
    "    \n",
    "                text_pre_preproc('keep','lem',(1,2),'binary'),\n",
    "                text_pre_preproc('remove','lem',(1,2),'binary'),\n",
    "     \n",
    "                text_pre_preproc('keep','none',(1,3),'binary'),\n",
    "                text_pre_preproc('remove','none',(1,3),'binary'),\n",
    "\n",
    "                text_pre_preproc('keep','stem',(1,3),'binary'),\n",
    "                text_pre_preproc('remove','stem',(1,3),'binary'),\n",
    "    \n",
    "                text_pre_preproc('keep','lem',(1,3),'binary'),\n",
    "                text_pre_preproc('remove','lem',(1,3),'binary'),\n",
    "\n",
    "                text_pre_preproc('keep','none',(2,3),'binary'),\n",
    "                text_pre_preproc('remove','none',(2,3),'binary'),\n",
    "\n",
    "                text_pre_preproc('keep','stem',(2,3),'binary'),\n",
    "                text_pre_preproc('remove','stem',(2,3),'binary'),\n",
    "    \n",
    "                text_pre_preproc('keep','lem',(2,3),'binary'),\n",
    "                text_pre_preproc('remove','lem',(2,3),'binary'),\n",
    "\n",
    "                text_pre_preproc('keep','none',(1,1),'count'),\n",
    "                text_pre_preproc('remove','none',(1,1),'count'),\n",
    "\n",
    "                text_pre_preproc('keep','stem',(1,1),'count'),\n",
    "                text_pre_preproc('remove','stem',(1,1),'count'),\n",
    "    \n",
    "                text_pre_preproc('keep','lem',(1,1),'count'),\n",
    "                text_pre_preproc('remove','lem',(1,1),'count'),\n",
    "     \n",
    "                text_pre_preproc('keep','none',(1,2),'count'),\n",
    "                text_pre_preproc('remove','none',(1,2),'count'),\n",
    "\n",
    "                text_pre_preproc('keep','stem',(1,2),'count'),\n",
    "                text_pre_preproc('remove','stem',(1,2),'count'),\n",
    "    \n",
    "                text_pre_preproc('keep','lem',(1,2),'count'),\n",
    "                text_pre_preproc('remove','lem',(1,2),'count'),\n",
    "     \n",
    "                text_pre_preproc('keep','none',(1,3),'count'),\n",
    "                text_pre_preproc('remove','none',(1,3),'count'),\n",
    "\n",
    "                text_pre_preproc('keep','stem',(1,3),'count'),\n",
    "                text_pre_preproc('remove','stem',(1,3),'count'),\n",
    "    \n",
    "                text_pre_preproc('keep','lem',(1,3),'count'),\n",
    "                text_pre_preproc('remove','lem',(1,3),'count'),\n",
    "\n",
    "                text_pre_preproc('keep','none',(2,3),'count'),\n",
    "                text_pre_preproc('remove','none',(2,3),'count'),\n",
    "\n",
    "                text_pre_preproc('keep','stem',(2,3),'count'),\n",
    "                text_pre_preproc('remove','stem',(2,3),'count'),\n",
    "    \n",
    "                text_pre_preproc('keep','lem',(2,3),'count'),\n",
    "                text_pre_preproc('remove','lem',(2,3),'count'),\n",
    "\n",
    "                text_pre_preproc('keep','none',(1,1),'tf_idf'),\n",
    "                text_pre_preproc('remove','none',(1,1),'tf_idf'),\n",
    "\n",
    "                text_pre_preproc('keep','stem',(1,1),'tf_idf'),\n",
    "                text_pre_preproc('remove','stem',(1,1),'tf_idf'),\n",
    "    \n",
    "                text_pre_preproc('keep','lem',(1,1),'tf_idf'),\n",
    "                text_pre_preproc('remove','lem',(1,1),'tf_idf'),\n",
    "     \n",
    "                text_pre_preproc('keep','none',(1,2),'tf_idf'),\n",
    "                text_pre_preproc('remove','none',(1,2),'tf_idf'),\n",
    "\n",
    "                text_pre_preproc('keep','stem',(1,2),'tf_idf'),\n",
    "                text_pre_preproc('remove','stem',(1,2),'tf_idf'),\n",
    "    \n",
    "                text_pre_preproc('keep','lem',(1,2),'tf_idf'),\n",
    "                text_pre_preproc('remove','lem',(1,2),'tf_idf'),\n",
    "     \n",
    "                text_pre_preproc('keep','none',(1,3),'tf_idf'),\n",
    "                text_pre_preproc('remove','none',(1,3),'tf_idf'),\n",
    "\n",
    "                text_pre_preproc('keep','stem',(1,3),'tf_idf'),\n",
    "                text_pre_preproc('remove','stem',(1,3),'tf_idf'),\n",
    "    \n",
    "                text_pre_preproc('keep','lem',(1,3),'tf_idf'),\n",
    "                text_pre_preproc('remove','lem',(1,3),'tf_idf'),\n",
    "\n",
    "                text_pre_preproc('keep','none',(2,3),'tf_idf'),\n",
    "                text_pre_preproc('remove','none',(2,3),'tf_idf'),\n",
    "\n",
    "                text_pre_preproc('keep','stem',(2,3),'tf_idf'),\n",
    "                text_pre_preproc('remove','stem',(2,3),'tf_idf'),\n",
    "    \n",
    "                text_pre_preproc('keep','lem',(2,3),'tf_idf'),\n",
    "                text_pre_preproc('remove','lem',(2,3),'tf_idf'),\n",
    "    \n",
    "            ]\n",
    "\n",
    "# The single same pre-preprocessing applied to several models, \"1 size fit all\" approach.\n",
    "prep_list_single = [ \n",
    "                text_pre_preproc('keep','lem',(1,1),'tf_idf'),\n",
    "            ]\n",
    "\n",
    "# Preprocessing tailored to each model\n",
    "prep_list_mod_dic = {\n",
    "                        'LR' :prep_list_single, \n",
    "                        'SVM':prep_list_single, \n",
    "                        'SGD':prep_list_single, \n",
    "                        'PER':prep_list_single, \n",
    "                        'MLP':prep_list_single, \n",
    "                        'PAC':prep_list_single, \n",
    "                        'RF' :prep_list_single, \n",
    "                        'DT' :prep_list_single, \n",
    "                        'ABC':prep_list_single, \n",
    "                        'GBC':prep_list_single, \n",
    "                        'NB' :prep_list_single,\n",
    "                    }"
   ]
  },
  {
   "cell_type": "markdown",
   "metadata": {},
   "source": [
    "# Model selection and parameters"
   ]
  },
  {
   "cell_type": "code",
   "execution_count": 20,
   "metadata": {},
   "outputs": [],
   "source": [
    "# list of models to run. Include models to be run in the list ((un)comment model)\n",
    "model_2_run = [\n",
    "                'LR',     # Logistic Regression\n",
    "                'SVM',    # Support Vector Machine\n",
    "                'SGD',    # Stochastic Gadient Descent\n",
    "                'PER',    # PERceptron\n",
    "                'MLP',    # MultiLayer Perceptron\n",
    "                'PAC',    # Passive Aggressive Classifier\n",
    "#                'RF',     # Random Forest\n",
    "                'DT',     # Decision Tree\n",
    "                'ABC',    # AdaBoost Classifier\n",
    "                'GBC',    # Gradient Boosting\n",
    "                'NB',     # Naive Bayes\n",
    "]"
   ]
  },
  {
   "cell_type": "code",
   "execution_count": 21,
   "metadata": {},
   "outputs": [],
   "source": [
    "# list of pre-processing per algorithm\n",
    "prep_algo_dic = {\n",
    "                    'LR' : prep_list_mod_dic['LR'], \n",
    "                    'SVM': prep_list_mod_dic['SVM'], \n",
    "                    'SGD': prep_list_mod_dic['SGD'], \n",
    "                    'PER': prep_list_mod_dic['PER'], \n",
    "                    'MLP': prep_list_mod_dic['MLP'], \n",
    "                    'PAC': prep_list_mod_dic['PAC'], \n",
    "                    'RF' : prep_list_mod_dic['RF'], \n",
    "                    'DT' : prep_list_mod_dic['DT'], \n",
    "                    'ABC': prep_list_mod_dic['ABC'], \n",
    "                    'GBC': prep_list_mod_dic['GBC'], \n",
    "                    'NB' : prep_list_mod_dic['NB'],\n",
    "                }"
   ]
  },
  {
   "cell_type": "markdown",
   "metadata": {},
   "source": [
    "# Processing functions"
   ]
  },
  {
   "cell_type": "markdown",
   "metadata": {},
   "source": [
    "## Parameters tuning"
   ]
  },
  {
   "cell_type": "code",
   "execution_count": 22,
   "metadata": {},
   "outputs": [],
   "source": [
    "def display_results(y_test, pred_soft):\n",
    "    preds = pred_soft[:,1]\n",
    "    fpr, tpr, threshold = roc_curve(y_test, preds)\n",
    "    roc_auc = auc(fpr, tpr)\n",
    "\n",
    "    plt.figure()\n",
    "    plt.plot(fpr, tpr, label='GridSearchCV (ROC_AUV (area) = %0.2f)' % roc_auc)\n",
    "    plt.plot([0, 1], [0, 1],'r--')\n",
    "    plt.xlim([-0.01, 1.0])\n",
    "    plt.ylim([0.0, 1.05])\n",
    "    plt.xlabel('False Positive Rate')\n",
    "    plt.ylabel('True Positive Rate')\n",
    "    plt.title('Receiver operating characteristic')\n",
    "    plt.legend(loc=\"lower right\")\n",
    "    #plt.savefig('Log_ROC')\n",
    "    plt.show()"
   ]
  },
  {
   "cell_type": "code",
   "execution_count": 23,
   "metadata": {},
   "outputs": [],
   "source": [
    "def hyper_param_tuning(X, y, X_test, y_test, pipe, param_grid):\n",
    "    # Create grid search object\n",
    "    clf = GridSearchCV(pipe, param_grid = param_grid, cv = 5, verbose=False, n_jobs=-1)\n",
    "\n",
    "    # Fit on data\n",
    "    best_clf         = clf.fit(X, y)\n",
    "    \n",
    "    best_hyper_param = best_clf.best_estimator_.get_params()['classifier']\n",
    "    accuracy         = best_clf.score(X_test, y_test)\n",
    "    # some models (e.g. clustering) have no soft predictions, only hard predictions\n",
    "    try:\n",
    "        pred_soft    = best_clf.predict_proba(X_test)\n",
    "    except:\n",
    "        pred_soft    = []\n",
    "    pred_hard        = best_clf.predict(X_test)\n",
    "    \n",
    "#    print('Hyperparameter tuning leads to : ' , best_clf.best_estimator_.get_params()['classifier'])\n",
    "    print('Model accuracy is', best_clf.score(X_test, y_test))\n",
    "            \n",
    "    return(best_hyper_param , accuracy, pred_soft , pred_hard , best_clf)"
   ]
  },
  {
   "cell_type": "code",
   "execution_count": 24,
   "metadata": {},
   "outputs": [],
   "source": [
    "def do_hyper_param(prep_list_algo , algo):\n",
    "    best_hyper_param , best_accuracy, best_pred_soft , best_pred_hard = ([],[],[],[])\n",
    "    prep_list = prep_algo_dic[algo]\n",
    "    \n",
    "    max_accuracy = -1\n",
    "    for idx,prep in enumerate(prep_list):\n",
    "        X,X_test = text_pre_processing(tweets_train_clean, tweets_test_clean, prep, verbose=1)\n",
    "        \n",
    "        if algo == 'LR':\n",
    "            pipe, param_grid = logistic_regression_hyper_param()\n",
    "        elif algo == 'SVM':\n",
    "            pipe, param_grid = SVM_hyper_param()\n",
    "        elif algo == 'SGD':\n",
    "            pipe, param_grid = SGD_hyper_param()\n",
    "        elif algo == 'PER':\n",
    "            pipe, param_grid = PER_hyper_param()\n",
    "        elif algo == 'MLP':\n",
    "            pipe, param_grid = MLP_hyper_param()\n",
    "        elif algo == 'PAC':\n",
    "            pipe, param_grid = PAC_hyper_param()\n",
    "        elif algo == 'RF':\n",
    "            pipe, param_grid = random_forest_hyper_param()\n",
    "        elif algo == 'DT':\n",
    "            pipe, param_grid = decision_tree_hyper_param()\n",
    "        elif algo == 'ABC':\n",
    "            pipe, param_grid = AdaBoost_hyper_param()\n",
    "        elif algo == 'GBC':\n",
    "            pipe, param_grid = GBC_hyper_param()\n",
    "        elif algo == 'NB':\n",
    "            pipe, param_grid = GaussianNB_hyper_param()\n",
    "        else:\n",
    "           raise NameError('incorrect algorithm name') \n",
    "            \n",
    "        hyper_param , accuracy, pred_soft , pred_hard, best_clf = hyper_param_tuning(X, target_train, X_test, target_test, pipe, param_grid)\n",
    "\n",
    "        if accuracy >= max_accuracy:\n",
    "            max_accuracy = accuracy \n",
    "            best_hyper_param , best_accuracy, best_pred_soft , best_pred_hard         = (hyper_param , accuracy, pred_soft , pred_hard)\n",
    "            best_prep = prep_list[idx]\n",
    "        print()\n",
    "        \n",
    "    return(best_hyper_param , best_accuracy, best_pred_soft , best_pred_hard, best_prep, best_clf)"
   ]
  },
  {
   "cell_type": "code",
   "execution_count": 25,
   "metadata": {},
   "outputs": [],
   "source": [
    "def do_majority_vote(prep_list_algo , hard_soft, model_list):\n",
    "    prep_list = prep_algo_dic[algo]\n",
    "    for idx,prep in enumerate(prep_list):\n",
    "        X,X_test = text_pre_processing(tweets_train_clean, tweets_test_clean, prep, verbose=1)\n"
   ]
  },
  {
   "cell_type": "markdown",
   "metadata": {},
   "source": [
    "# Run model"
   ]
  },
  {
   "cell_type": "code",
   "execution_count": 26,
   "metadata": {},
   "outputs": [],
   "source": [
    "def run_model(algo):\n",
    "    best_hyper_param , best_accuracy, best_pred_soft , best_pred_hard, best_prep, best_clf = do_hyper_param(prep_algo_dic , algo)\n",
    "    print('best pre_processing is :', '{',best_prep.stop_word, ',' ,best_prep.stem_lem, ',' ,best_prep.ngram, ',' , best_prep.vector ,'}') \n",
    "    print('best model is ', best_hyper_param)\n",
    "    print('best accuracy is ', best_accuracy)\n",
    "    #some models do not predict any soft values/probabilities, AUC can't be computed for those\n",
    "    if len(best_pred_soft) > 0:\n",
    "        display_results(target_test, best_pred_soft)\n",
    "    return(best_clf)"
   ]
  },
  {
   "cell_type": "markdown",
   "metadata": {},
   "source": [
    "# Logistic Regression Parameters"
   ]
  },
  {
   "cell_type": "code",
   "execution_count": 27,
   "metadata": {},
   "outputs": [],
   "source": [
    "def logistic_regression_hyper_param():\n",
    "    pipe = Pipeline([('classifier' , LogisticRegression())])\n",
    "\n",
    "    # Create param grid.\n",
    "    param_grid = [\n",
    "                    {'classifier' : [LogisticRegression()],\n",
    "                     'classifier__penalty' : ['l1', 'l2'],\n",
    "#                     'classifier__max_iter' : [50, 100, 200, 500, 1000],\n",
    "                    'classifier__C' : np.logspace(-4, 0, 40),\n",
    "                    'classifier__solver' : ['liblinear']}\n",
    "                ]\n",
    "    \n",
    "    return(pipe,param_grid)"
   ]
  },
  {
   "cell_type": "markdown",
   "metadata": {},
   "source": [
    "# SVM Parameters"
   ]
  },
  {
   "cell_type": "code",
   "execution_count": 28,
   "metadata": {},
   "outputs": [],
   "source": [
    "def SVM_hyper_param():\n",
    "    pipe = Pipeline([('classifier' , LinearSVC())])\n",
    "\n",
    "\n",
    "    # Create param grid.\n",
    "    param_grid = [\n",
    "                    {'classifier' : [LinearSVC()],\n",
    "#                     'classifier__max_iter' : [50, 100, 200, 500, 1000],\n",
    "                    'classifier__C' : np.logspace(-4, 0, 40),\n",
    "                    'classifier__loss' : ['hinge','squared_hinge']\n",
    "                    }\n",
    "                ]\n",
    "    \n",
    "    return(pipe,param_grid)"
   ]
  },
  {
   "cell_type": "markdown",
   "metadata": {},
   "source": [
    "# Stochastic Gradient Descent (SGD) Parameters"
   ]
  },
  {
   "cell_type": "code",
   "execution_count": 29,
   "metadata": {},
   "outputs": [],
   "source": [
    "def SGD_hyper_param():\n",
    "    pipe = Pipeline([('classifier' , SGDClassifier())])\n",
    "\n",
    "    # Create param grid.\n",
    "    param_grid = [\n",
    "                    {'classifier' : [SGDClassifier()],\n",
    "                    'classifier__loss' : ['hinge','squared_hinge']\n",
    "                    }\n",
    "                ]\n",
    "    \n",
    "    return(pipe,param_grid)"
   ]
  },
  {
   "cell_type": "markdown",
   "metadata": {},
   "source": [
    "# Perceptron (PER) Parameters"
   ]
  },
  {
   "cell_type": "code",
   "execution_count": 30,
   "metadata": {},
   "outputs": [],
   "source": [
    "def PER_hyper_param():\n",
    "    pipe = Pipeline([('classifier' , Perceptron())])\n",
    "\n",
    "    # Create param grid.\n",
    "    param_grid = [\n",
    "                    {'classifier' : [Perceptron()],\n",
    "                     'classifier__penalty' : ['l1', 'l2'],\n",
    "                    }\n",
    "                ]\n",
    "    \n",
    "    return(pipe,param_grid)"
   ]
  },
  {
   "cell_type": "markdown",
   "metadata": {},
   "source": [
    "# MultiLayer Perceptron (MLP) Parameters"
   ]
  },
  {
   "cell_type": "code",
   "execution_count": 31,
   "metadata": {},
   "outputs": [],
   "source": [
    "def MLP_hyper_param():\n",
    "    pipe = Pipeline([('classifier' , MLPClassifier())])\n",
    "\n",
    "    # Create param grid.\n",
    "    param_grid = [\n",
    "                    {'classifier' : [MLPClassifier()],\n",
    "                     'classifier__alpha' : [1e-05],\n",
    "                     'classifier__hidden_layer_sizes' : [(3, 2),(5, 2)],\n",
    "                     'classifier__solver' : ['lbfgs'],\n",
    "                    }\n",
    "                ]\n",
    "    \n",
    "    return(pipe,param_grid)\n"
   ]
  },
  {
   "cell_type": "markdown",
   "metadata": {},
   "source": [
    "# Passive Aggressive Classifier (PAC) Parameters"
   ]
  },
  {
   "cell_type": "code",
   "execution_count": 32,
   "metadata": {},
   "outputs": [],
   "source": [
    "def PAC_hyper_param():\n",
    "    pipe = Pipeline([('classifier' , PassiveAggressiveClassifier())])\n",
    "\n",
    "    # Create param grid.\n",
    "    param_grid = [\n",
    "                    {'classifier' : [PassiveAggressiveClassifier()],\n",
    "                    'classifier__loss' : ['hinge','squared_hinge'],\n",
    "                    }\n",
    "                ]\n",
    "    \n",
    "    return(pipe,param_grid)"
   ]
  },
  {
   "cell_type": "markdown",
   "metadata": {},
   "source": [
    "# Random Forest Parameters"
   ]
  },
  {
   "cell_type": "code",
   "execution_count": 33,
   "metadata": {},
   "outputs": [],
   "source": [
    "def random_forest_hyper_param():\n",
    "    pipe = Pipeline([('classifier' , RandomForestClassifier())])\n",
    "\n",
    "    # Create param grid.\n",
    "    param_grid = [\n",
    "                    {'classifier' : [RandomForestClassifier()],\n",
    "                    'classifier__n_estimators' : list(range(10,101,10)),\n",
    "                    'classifier__max_features' : list(range(6,32,5))}\n",
    "                ]\n",
    "    \n",
    "    return(pipe,param_grid)"
   ]
  },
  {
   "cell_type": "markdown",
   "metadata": {},
   "source": [
    "# Decision Tree Parameters"
   ]
  },
  {
   "cell_type": "code",
   "execution_count": 34,
   "metadata": {},
   "outputs": [],
   "source": [
    "def decision_tree_hyper_param():\n",
    "    pipe = Pipeline([('classifier' , DecisionTreeClassifier())])\n",
    "\n",
    "    # Create param grid.\n",
    "    param_grid = [\n",
    "                    {'classifier' : [DecisionTreeClassifier()],\n",
    "                    'classifier__max_features' : list(range(6,32,5))}\n",
    "                ]\n",
    "    \n",
    "    return(pipe,param_grid)"
   ]
  },
  {
   "cell_type": "markdown",
   "metadata": {},
   "source": [
    "# AdaBoost Parameters"
   ]
  },
  {
   "cell_type": "code",
   "execution_count": 35,
   "metadata": {},
   "outputs": [],
   "source": [
    "def AdaBoost_hyper_param():\n",
    "    pipe = Pipeline([('classifier' , AdaBoostClassifier())])\n",
    "\n",
    "    # Create param grid.\n",
    "    param_grid = [\n",
    "                    {\n",
    "                    'classifier' : [AdaBoostClassifier()],\n",
    "                    }\n",
    "                ]\n",
    "    \n",
    "    return(pipe,param_grid)"
   ]
  },
  {
   "cell_type": "markdown",
   "metadata": {},
   "source": [
    "# Gradient Boosting Parameters"
   ]
  },
  {
   "cell_type": "code",
   "execution_count": 36,
   "metadata": {},
   "outputs": [],
   "source": [
    "def GBC_hyper_param():\n",
    "    pipe = Pipeline([('classifier' , GradientBoostingClassifier())])\n",
    "\n",
    "    # Create param grid.\n",
    "    param_grid = [\n",
    "                    {\n",
    "                    'classifier' : [GradientBoostingClassifier()],\n",
    "                    }\n",
    "                ]\n",
    "    \n",
    "    return(pipe,param_grid)"
   ]
  },
  {
   "cell_type": "markdown",
   "metadata": {},
   "source": [
    "# Gaussian Naive Bayes Parameters"
   ]
  },
  {
   "cell_type": "code",
   "execution_count": 37,
   "metadata": {},
   "outputs": [],
   "source": [
    "Prior = np.mean(np.array(target_test))\n",
    "def GaussianNB_hyper_param():\n",
    "    pipe = Pipeline([('classifier' , ComplementNB())])\n",
    "\n",
    "    # Create param grid.\n",
    "    param_grid = [\n",
    "                    {\n",
    "                    'classifier' : [ComplementNB(),MultinomialNB(), BernoulliNB()],\n",
    "                    'classifier__alpha' : np.arange(0,1.1,0.1),\n",
    "                    'classifier__fit_prior' : [True, False],\n",
    "                    'classifier__class_prior' : [None, [1-Prior, Prior]],                        \n",
    "                    },\n",
    "        \n",
    "                ]\n",
    " \n",
    "    return(pipe,param_grid)"
   ]
  },
  {
   "cell_type": "code",
   "execution_count": 38,
   "metadata": {},
   "outputs": [],
   "source": [
    "estimator_list      = list()\n",
    "estimator_soft_list = list()"
   ]
  },
  {
   "cell_type": "markdown",
   "metadata": {},
   "source": [
    "# RUN LOGISTIC REGRESSION"
   ]
  },
  {
   "cell_type": "code",
   "execution_count": 39,
   "metadata": {},
   "outputs": [
    {
     "name": "stdout",
     "output_type": "stream",
     "text": [
      "text pre-processing parameters:\n",
      "    keep stop words\n",
      "    do lemmatization\n",
      "    tf-idf vectorization with 1 to 1 n-grams\n",
      "Model accuracy is 0.7931351517008888\n",
      "\n",
      "best pre_processing is : { keep , lem , (1, 1) , tf_idf }\n",
      "best model is  LogisticRegression(C=0.49238826317067363, class_weight=None, dual=False,\n",
      "                   fit_intercept=True, intercept_scaling=1, l1_ratio=None,\n",
      "                   max_iter=100, multi_class='warn', n_jobs=None, penalty='l2',\n",
      "                   random_state=None, solver='liblinear', tol=0.0001, verbose=0,\n",
      "                   warm_start=False)\n",
      "best accuracy is  0.7931351517008888\n"
     ]
    },
    {
     "data": {
      "image/png": "[encoded data removed]",
      "text/plain": [
       "<Figure size 432x288 with 1 Axes>"
      ]
     },
     "metadata": {
      "needs_background": "light"
     },
     "output_type": "display_data"
    }
   ],
   "source": [
    "if 'LR' in model_2_run:\n",
    "    best_clf_LR = run_model('LR')\n",
    "    estimator_list.append(('LR', best_clf_LR))\n",
    "    estimator_soft_list.append(('LR', best_clf_LR))    "
   ]
  },
  {
   "cell_type": "markdown",
   "metadata": {},
   "source": [
    "# RUN SVM"
   ]
  },
  {
   "cell_type": "code",
   "execution_count": 40,
   "metadata": {},
   "outputs": [
    {
     "name": "stdout",
     "output_type": "stream",
     "text": [
      "text pre-processing parameters:\n",
      "    keep stop words\n",
      "    do lemmatization\n",
      "    tf-idf vectorization with 1 to 1 n-grams\n",
      "Model accuracy is 0.7943610174685872\n",
      "\n",
      "best pre_processing is : { keep , lem , (1, 1) , tf_idf }\n",
      "best model is  LinearSVC(C=0.05878016072274912, class_weight=None, dual=True,\n",
      "          fit_intercept=True, intercept_scaling=1, loss='squared_hinge',\n",
      "          max_iter=1000, multi_class='ovr', penalty='l2', random_state=None,\n",
      "          tol=0.0001, verbose=0)\n",
      "best accuracy is  0.7943610174685872\n"
     ]
    }
   ],
   "source": [
    "if 'SVM' in model_2_run:\n",
    "    best_clf_SVM = run_model('SVM')\n",
    "    estimator_list.append(('SVM', best_clf_SVM))    "
   ]
  },
  {
   "cell_type": "markdown",
   "metadata": {},
   "source": [
    "# RUN SGD"
   ]
  },
  {
   "cell_type": "code",
   "execution_count": 41,
   "metadata": {},
   "outputs": [
    {
     "name": "stdout",
     "output_type": "stream",
     "text": [
      "text pre-processing parameters:\n",
      "    keep stop words\n",
      "    do lemmatization\n",
      "    tf-idf vectorization with 1 to 1 n-grams\n",
      "Model accuracy is 0.8007968127490039\n",
      "\n",
      "best pre_processing is : { keep , lem , (1, 1) , tf_idf }\n",
      "best model is  SGDClassifier(alpha=0.0001, average=False, class_weight=None,\n",
      "              early_stopping=False, epsilon=0.1, eta0=0.0, fit_intercept=True,\n",
      "              l1_ratio=0.15, learning_rate='optimal', loss='hinge',\n",
      "              max_iter=1000, n_iter_no_change=5, n_jobs=None, penalty='l2',\n",
      "              power_t=0.5, random_state=None, shuffle=True, tol=0.001,\n",
      "              validation_fraction=0.1, verbose=0, warm_start=False)\n",
      "best accuracy is  0.8007968127490039\n"
     ]
    }
   ],
   "source": [
    "if 'SGD' in model_2_run:\n",
    "    best_clf_SGD = run_model('SGD')\n",
    "    estimator_list.append(('SGD', best_clf_SGD))        "
   ]
  },
  {
   "cell_type": "markdown",
   "metadata": {},
   "source": [
    "# RUN PERCEPTRON"
   ]
  },
  {
   "cell_type": "code",
   "execution_count": 42,
   "metadata": {},
   "outputs": [
    {
     "name": "stdout",
     "output_type": "stream",
     "text": [
      "text pre-processing parameters:\n",
      "    keep stop words\n",
      "    do lemmatization\n",
      "    tf-idf vectorization with 1 to 1 n-grams\n",
      "Model accuracy is 0.7155991418939626\n",
      "\n",
      "best pre_processing is : { keep , lem , (1, 1) , tf_idf }\n",
      "best model is  Perceptron(alpha=0.0001, class_weight=None, early_stopping=False, eta0=1.0,\n",
      "           fit_intercept=True, max_iter=1000, n_iter_no_change=5, n_jobs=None,\n",
      "           penalty='l2', random_state=0, shuffle=True, tol=0.001,\n",
      "           validation_fraction=0.1, verbose=0, warm_start=False)\n",
      "best accuracy is  0.7155991418939626\n"
     ]
    }
   ],
   "source": [
    "if 'PER' in model_2_run:\n",
    "    best_clf_PER = run_model('PER')\n",
    "    estimator_list.append(('PER', best_clf_PER))            "
   ]
  },
  {
   "cell_type": "markdown",
   "metadata": {},
   "source": [
    "# RUN MULTI LAYER PERCEPTRON"
   ]
  },
  {
   "cell_type": "code",
   "execution_count": 43,
   "metadata": {},
   "outputs": [
    {
     "name": "stdout",
     "output_type": "stream",
     "text": [
      "text pre-processing parameters:\n",
      "    keep stop words\n",
      "    do lemmatization\n",
      "    tf-idf vectorization with 1 to 1 n-grams\n",
      "Model accuracy is 0.5703340484216978\n",
      "\n",
      "best pre_processing is : { keep , lem , (1, 1) , tf_idf }\n",
      "best model is  MLPClassifier(activation='relu', alpha=1e-05, batch_size='auto', beta_1=0.9,\n",
      "              beta_2=0.999, early_stopping=False, epsilon=1e-08,\n",
      "              hidden_layer_sizes=(5, 2), learning_rate='constant',\n",
      "              learning_rate_init=0.001, max_iter=200, momentum=0.9,\n",
      "              n_iter_no_change=10, nesterovs_momentum=True, power_t=0.5,\n",
      "              random_state=None, shuffle=True, solver='lbfgs', tol=0.0001,\n",
      "              validation_fraction=0.1, verbose=False, warm_start=False)\n",
      "best accuracy is  0.5703340484216978\n"
     ]
    },
    {
     "data": {
      "image/png": "[encoded data removed]",
      "text/plain": [
       "<Figure size 432x288 with 1 Axes>"
      ]
     },
     "metadata": {
      "needs_background": "light"
     },
     "output_type": "display_data"
    }
   ],
   "source": [
    "if 'MLP' in model_2_run:\n",
    "    best_clf_MLP = run_model('MLP')\n",
    "    estimator_list.append(('MLP', best_clf_MLP))  \n",
    "    estimator_soft_list.append(('MLP', best_clf_MLP))"
   ]
  },
  {
   "cell_type": "markdown",
   "metadata": {},
   "source": [
    "# RUN PASSIVE AGGRESSIVE CLASSIFIER"
   ]
  },
  {
   "cell_type": "code",
   "execution_count": 44,
   "metadata": {},
   "outputs": [
    {
     "name": "stdout",
     "output_type": "stream",
     "text": [
      "text pre-processing parameters:\n",
      "    keep stop words\n",
      "    do lemmatization\n",
      "    tf-idf vectorization with 1 to 1 n-grams\n",
      "Model accuracy is 0.754520380018388\n",
      "\n",
      "best pre_processing is : { keep , lem , (1, 1) , tf_idf }\n",
      "best model is  PassiveAggressiveClassifier(C=1.0, average=False, class_weight=None,\n",
      "                            early_stopping=False, fit_intercept=True,\n",
      "                            loss='hinge', max_iter=1000, n_iter_no_change=5,\n",
      "                            n_jobs=None, random_state=None, shuffle=True,\n",
      "                            tol=0.001, validation_fraction=0.1, verbose=0,\n",
      "                            warm_start=False)\n",
      "best accuracy is  0.754520380018388\n"
     ]
    }
   ],
   "source": [
    "if 'PAC' in model_2_run:\n",
    "    best_clf_PAC = run_model('PAC')\n",
    "    estimator_list.append(('PAC', best_clf_PAC))                    "
   ]
  },
  {
   "cell_type": "markdown",
   "metadata": {},
   "source": [
    "# RUN RANDOM FOREST"
   ]
  },
  {
   "cell_type": "code",
   "execution_count": 45,
   "metadata": {},
   "outputs": [],
   "source": [
    "if 'RF' in model_2_run:\n",
    "    best_clf_RF = run_model('RF')\n",
    "    estimator_list.append(('RF', best_clf_RF))                        \n",
    "    estimator_soft_list.append(('RF', best_clf_RF))                            "
   ]
  },
  {
   "cell_type": "markdown",
   "metadata": {},
   "source": [
    "# RUN DECISION TREE"
   ]
  },
  {
   "cell_type": "code",
   "execution_count": 46,
   "metadata": {
    "scrolled": true
   },
   "outputs": [
    {
     "name": "stdout",
     "output_type": "stream",
     "text": [
      "text pre-processing parameters:\n",
      "    keep stop words\n",
      "    do lemmatization\n",
      "    tf-idf vectorization with 1 to 1 n-grams\n",
      "Model accuracy is 0.701195219123506\n",
      "\n",
      "best pre_processing is : { keep , lem , (1, 1) , tf_idf }\n",
      "best model is  DecisionTreeClassifier(class_weight=None, criterion='gini', max_depth=None,\n",
      "                       max_features=21, max_leaf_nodes=None,\n",
      "                       min_impurity_decrease=0.0, min_impurity_split=None,\n",
      "                       min_samples_leaf=1, min_samples_split=2,\n",
      "                       min_weight_fraction_leaf=0.0, presort=False,\n",
      "                       random_state=None, splitter='best')\n",
      "best accuracy is  0.701195219123506\n"
     ]
    },
    {
     "data": {
      "image/png": "[encoded data removed]",
      "text/plain": [
       "<Figure size 432x288 with 1 Axes>"
      ]
     },
     "metadata": {
      "needs_background": "light"
     },
     "output_type": "display_data"
    }
   ],
   "source": [
    "if 'DT' in model_2_run:\n",
    "    best_clf_DT = run_model('DT')\n",
    "    estimator_list.append(('DT', best_clf_DT)) \n",
    "    estimator_soft_list.append(('DT', best_clf_DT)) \n",
    "    "
   ]
  },
  {
   "cell_type": "markdown",
   "metadata": {},
   "source": [
    "# RUN ADABOOST"
   ]
  },
  {
   "cell_type": "code",
   "execution_count": 47,
   "metadata": {
    "scrolled": true
   },
   "outputs": [
    {
     "name": "stdout",
     "output_type": "stream",
     "text": [
      "text pre-processing parameters:\n",
      "    keep stop words\n",
      "    do lemmatization\n",
      "    tf-idf vectorization with 1 to 1 n-grams\n",
      "Model accuracy is 0.7309224639901931\n",
      "\n",
      "best pre_processing is : { keep , lem , (1, 1) , tf_idf }\n",
      "best model is  AdaBoostClassifier(algorithm='SAMME.R', base_estimator=None, learning_rate=1.0,\n",
      "                   n_estimators=50, random_state=None)\n",
      "best accuracy is  0.7309224639901931\n"
     ]
    },
    {
     "data": {
      "image/png": "[encoded data removed]",
      "text/plain": [
       "<Figure size 432x288 with 1 Axes>"
      ]
     },
     "metadata": {
      "needs_background": "light"
     },
     "output_type": "display_data"
    }
   ],
   "source": [
    "if 'ABC' in model_2_run:\n",
    "    best_clf_ABC = run_model('ABC')\n",
    "    estimator_list.append(('ABC', best_clf_ABC)) \n",
    "    estimator_soft_list.append(('ABC', best_clf_ABC)) \n",
    "    "
   ]
  },
  {
   "cell_type": "markdown",
   "metadata": {},
   "source": [
    "# RUN GRADIENT BOOSTING"
   ]
  },
  {
   "cell_type": "code",
   "execution_count": 48,
   "metadata": {
    "scrolled": true
   },
   "outputs": [
    {
     "name": "stdout",
     "output_type": "stream",
     "text": [
      "text pre-processing parameters:\n",
      "    keep stop words\n",
      "    do lemmatization\n",
      "    tf-idf vectorization with 1 to 1 n-grams\n",
      "Model accuracy is 0.7391970579221575\n",
      "\n",
      "best pre_processing is : { keep , lem , (1, 1) , tf_idf }\n",
      "best model is  GradientBoostingClassifier(criterion='friedman_mse', init=None,\n",
      "                           learning_rate=0.1, loss='deviance', max_depth=3,\n",
      "                           max_features=None, max_leaf_nodes=None,\n",
      "                           min_impurity_decrease=0.0, min_impurity_split=None,\n",
      "                           min_samples_leaf=1, min_samples_split=2,\n",
      "                           min_weight_fraction_leaf=0.0, n_estimators=100,\n",
      "                           n_iter_no_change=None, presort='auto',\n",
      "                           random_state=None, subsample=1.0, tol=0.0001,\n",
      "                           validation_fraction=0.1, verbose=0,\n",
      "                           warm_start=False)\n",
      "best accuracy is  0.7391970579221575\n"
     ]
    },
    {
     "data": {
      "image/png": "[encoded data removed]",
      "text/plain": [
       "<Figure size 432x288 with 1 Axes>"
      ]
     },
     "metadata": {
      "needs_background": "light"
     },
     "output_type": "display_data"
    }
   ],
   "source": [
    "if 'GBC' in model_2_run:\n",
    "    best_clf_GBC = run_model('GBC')\n",
    "    estimator_list.append(('GBC', best_clf_GBC))  \n",
    "    estimator_soft_list.append(('GBC', best_clf_GBC))  \n",
    "    "
   ]
  },
  {
   "cell_type": "markdown",
   "metadata": {},
   "source": [
    "# RUN GAUSSIAN NAIVE BAYES"
   ]
  },
  {
   "cell_type": "code",
   "execution_count": 49,
   "metadata": {},
   "outputs": [
    {
     "name": "stdout",
     "output_type": "stream",
     "text": [
      "text pre-processing parameters:\n",
      "    keep stop words\n",
      "    do lemmatization\n",
      "    tf-idf vectorization with 1 to 1 n-grams\n",
      "Model accuracy is 0.8020226785167024\n",
      "\n",
      "best pre_processing is : { keep , lem , (1, 1) , tf_idf }\n",
      "best model is  BernoulliNB(alpha=1.0, binarize=0.0, class_prior=None, fit_prior=True)\n",
      "best accuracy is  0.8020226785167024\n"
     ]
    },
    {
     "data": {
      "image/png": "[encoded data removed]",
      "text/plain": [
       "<Figure size 432x288 with 1 Axes>"
      ]
     },
     "metadata": {
      "needs_background": "light"
     },
     "output_type": "display_data"
    }
   ],
   "source": [
    "if 'NB' in model_2_run:\n",
    "    best_clf_NB = run_model('NB')\n",
    "    estimator_list.append(('NB', best_clf_NB))    \n",
    "    estimator_soft_list.append(('NB', best_clf_NB))    \n",
    "    "
   ]
  },
  {
   "cell_type": "markdown",
   "metadata": {},
   "source": [
    "# HARD MAJORITY VOTE"
   ]
  },
  {
   "cell_type": "code",
   "execution_count": 50,
   "metadata": {},
   "outputs": [
    {
     "name": "stdout",
     "output_type": "stream",
     "text": [
      "text pre-processing parameters:\n",
      "    keep stop words\n",
      "    do lemmatization\n",
      "    tf-idf vectorization with 1 to 1 n-grams\n"
     ]
    }
   ],
   "source": [
    "prep_list = prep_algo_dic['LR']\n",
    "for idx,prep in enumerate(prep_list):\n",
    "    X,X_test = text_pre_processing(tweets_train_clean, tweets_test_clean, prep, verbose=1)\n"
   ]
  },
  {
   "cell_type": "code",
   "execution_count": 51,
   "metadata": {},
   "outputs": [],
   "source": [
    "hclf = VotingClassifier(\n",
    "...     estimators=estimator_list,\n",
    "...     voting='hard')\n",
    "hclf_fitted         = hclf.fit(X_test, target_test)"
   ]
  },
  {
   "cell_type": "code",
   "execution_count": 52,
   "metadata": {},
   "outputs": [
    {
     "name": "stdout",
     "output_type": "stream",
     "text": [
      "LR Accuracy =  0.7931351517008888\n",
      "SVM Accuracy =  0.7943610174685872\n",
      "SGD Accuracy =  0.8007968127490039\n",
      "PER Accuracy =  0.7155991418939626\n",
      "MLP Accuracy =  0.5703340484216978\n",
      "PAC Accuracy =  0.754520380018388\n",
      "DT Accuracy =  0.701195219123506\n",
      "ABC Accuracy =  0.7309224639901931\n",
      "GBC Accuracy =  0.7391970579221575\n",
      "NB Accuracy =  0.8020226785167024\n",
      "HMJ Accuracy =  0.9276739197057922\n"
     ]
    }
   ],
   "source": [
    "for estimator in estimator_list:\n",
    "    model,clf = estimator\n",
    "    print(model,\"Accuracy = \", clf.score(X_test, target_test))\n",
    "print(\"HMJ Accuracy = \", hclf_fitted.score(X_test, target_test))"
   ]
  },
  {
   "cell_type": "markdown",
   "metadata": {},
   "source": [
    "# SOFT MAJORITY VOTE"
   ]
  },
  {
   "cell_type": "code",
   "execution_count": 53,
   "metadata": {},
   "outputs": [],
   "source": [
    "sclf = VotingClassifier(\n",
    "...     estimators=estimator_soft_list,\n",
    "...     voting='soft')\n",
    "sclf_fitted         = sclf.fit(X_test, target_test)"
   ]
  },
  {
   "cell_type": "code",
   "execution_count": 54,
   "metadata": {},
   "outputs": [
    {
     "name": "stdout",
     "output_type": "stream",
     "text": [
      "LR Accuracy =  0.7931351517008888\n",
      "MLP Accuracy =  0.5703340484216978\n",
      "DT Accuracy =  0.701195219123506\n",
      "ABC Accuracy =  0.7309224639901931\n",
      "GBC Accuracy =  0.7391970579221575\n",
      "NB Accuracy =  0.8020226785167024\n",
      "SMJ Accuracy =  0.9886607416487895\n"
     ]
    }
   ],
   "source": [
    "for estimator in estimator_soft_list:\n",
    "    model,clf = estimator\n",
    "    print(model,\"Accuracy = \", clf.score(X_test, target_test))\n",
    "print(\"SMJ Accuracy = \", sclf_fitted.score(X_test, target_test))"
   ]
  },
  {
   "cell_type": "markdown",
   "metadata": {},
   "source": [
    "# GET PROCESSING TIME"
   ]
  },
  {
   "cell_type": "code",
   "execution_count": 55,
   "metadata": {},
   "outputs": [
    {
     "name": "stdout",
     "output_type": "stream",
     "text": [
      "Elapsed time: 211.106358 seconds.\n",
      "\n"
     ]
    }
   ],
   "source": [
    "toc()"
   ]
  },
  {
   "cell_type": "code",
   "execution_count": null,
   "metadata": {},
   "outputs": [],
   "source": []
  }
 ],
 "metadata": {
  "kernelspec": {
   "display_name": "Python 3",
   "language": "python",
   "name": "python3"
  },
  "language_info": {
   "codemirror_mode": {
    "name": "ipython",
    "version": 3
   },
   "file_extension": ".py",
   "mimetype": "text/x-python",
   "name": "python",
   "nbconvert_exporter": "python",
   "pygments_lexer": "ipython3",
   "version": "3.7.4"
  }
 },
 "nbformat": 4,
 "nbformat_minor": 2
}
